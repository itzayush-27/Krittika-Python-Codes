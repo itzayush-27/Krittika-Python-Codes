{
 "cells": [
  {
   "attachments": {},
   "cell_type": "markdown",
   "metadata": {
    "id": "2vfgskZDJTfq"
   },
   "source": [
    "# Python Assignment - Working With Events\n",
    "\n",
    "In this question, you are given 4 text files. \n",
    "These files contain timestamps, which correspond to the times of some 'events'. \n",
    "\n",
    "Your first task is to find out how many events are present in each file.\n",
    "\n",
    "Consider only those events which have a positive value for timestamp\n"
   ]
  },
  {
   "cell_type": "code",
   "execution_count": 12,
   "metadata": {
    "id": "icTu9rmKJTft"
   },
   "outputs": [
    {
     "name": "stdout",
     "output_type": "stream",
     "text": [
      "Events in File1 = 6528\n",
      "Events in File2 = 7800\n",
      "Events in File3 = 7858\n",
      "Events in File4 = 5193\n"
     ]
    }
   ],
   "source": [
    "import pandas as pd\n",
    "data1 = pd.read_csv('event_Q1.txt') \n",
    "data2 = pd.read_csv('event_Q2.txt')\n",
    "data3 = pd.read_csv('event_Q3.txt')\n",
    "data4 = pd.read_csv('event_Q4.txt')\n",
    "\n",
    "datas1 = []\n",
    "for dat in data1:\n",
    "    datas1.append(float(dat))\n",
    "\n",
    "times1 = []\n",
    "for dat in datas1:\n",
    "    if dat>=0:\n",
    "        times1.append(dat)\n",
    "\n",
    "print(f\"Events in File1 = {len(times1)}\")\n",
    "\n",
    "datas2 = []\n",
    "for dat in data2:\n",
    "    datas2.append(float(dat))\n",
    "\n",
    "times2 = []\n",
    "for dat in datas2:\n",
    "    if dat>=0:\n",
    "        times2.append(dat)\n",
    "\n",
    "print(f\"Events in File2 = {len(times2)}\")\n",
    "\n",
    "datas3 = []\n",
    "for dat in data3:\n",
    "    datas3.append(float(dat))\n",
    "\n",
    "times3 = []\n",
    "for dat in datas3:\n",
    "    if dat>=0:\n",
    "        times3.append(dat)\n",
    "\n",
    "print(f\"Events in File3 = {len(times3)}\")\n",
    "\n",
    "datas4 = []\n",
    "for dat in data4:\n",
    "    datas4.append(float(dat))\n",
    "\n",
    "times4 = []\n",
    "for dat in datas4:\n",
    "    if dat>=0:\n",
    "        times4.append(dat)\n",
    "\n",
    "print(f\"Events in File4 = {len(times4)}\")"
   ]
  },
  {
   "attachments": {},
   "cell_type": "markdown",
   "metadata": {
    "id": "vqYa_mZXJTft"
   },
   "source": [
    "After this, for each file, make a plot of events per second in that file.\n",
    "You dont have to find the average rate, instead for each second 0-1, 1-2, 2-3, .. 54-55, find the number of events in each second and plot it with respect to time.\n",
    "\n",
    "Plot these 4 separately, as well as in a single overlapping plot.\n",
    "Make sure to give proper titles, labels and legends."
   ]
  },
  {
   "cell_type": "code",
   "execution_count": 36,
   "metadata": {
    "id": "UbuEWLhZJTfu"
   },
   "outputs": [
    {
     "data": {
      "text/plain": [
       "<function matplotlib.pyplot.show(close=None, block=None)>"
      ]
     },
     "execution_count": 36,
     "metadata": {},
     "output_type": "execute_result"
    },
    {
     "data": {
      "image/png": "[encoded data removed]",
      "text/plain": [
       "<Figure size 640x480 with 1 Axes>"
      ]
     },
     "metadata": {},
     "output_type": "display_data"
    }
   ],
   "source": [
    "import pandas as pd\n",
    "import matplotlib.pyplot as plt\n",
    "\n",
    "data1 = pd.read_csv('event_Q1.txt') \n",
    "#data2 = pd.read_csv('event_Q2.txt')\n",
    "#data3 = pd.read_csv('event_Q3.txt')\n",
    "#data4 = pd.read_csv('event_Q4.txt')\n",
    "datas1 = []\n",
    "for dat in data1:\n",
    "    datas1.append(float(dat))\n",
    "\n",
    "times1 = []\n",
    "for dat in datas1:\n",
    "    if dat>=0:\n",
    "        times1.append(dat)\n",
    "\n",
    "df1 = pd.DataFrame(times1 , columns=['Times'])\n",
    "\n",
    "bin_edges = list(range(0,56))\n",
    "df1['bin'] = pd.cut(df1['Times'], bins=bin_edges)\n",
    "df1['bin'].value_counts()\n",
    "plt.hist(times1, bins = bin_edges)\n",
    "plt.xlabel('Time')\n",
    "plt.ylabel('Frequency')\n",
    "plt.title('Frequency vs Time')\n",
    "plt.show\n"
   ]
  },
  {
   "attachments": {},
   "cell_type": "markdown",
   "metadata": {
    "id": "I-pB_6RnJTfu"
   },
   "source": [
    "Give your insights on what you observe in the various plots. Regarding frequency of events in various files as well as the total duration each file is covering."
   ]
  },
  {
   "cell_type": "code",
   "execution_count": null,
   "metadata": {
    "id": "BCgTVppnJTfu"
   },
   "outputs": [],
   "source": [
    "#your code here"
   ]
  },
  {
   "attachments": {},
   "cell_type": "markdown",
   "metadata": {
    "id": "EHlWB51NJTfv"
   },
   "source": [
    "Now for the final part of this question. We can see that the event frequency varies with time. Count how many bins are there, where atleast 2 of the files have more than 140 events in that bin, simultaneously."
   ]
  },
  {
   "cell_type": "code",
   "execution_count": null,
   "metadata": {
    "id": "gSQSpey5JTfv"
   },
   "outputs": [],
   "source": [
    "#your code here"
   ]
  },
  {
   "attachments": {},
   "cell_type": "markdown",
   "metadata": {
    "id": "ELbvssntJTfv"
   },
   "source": [
    "## Bonus\n",
    "\n",
    "Let us do this more generally Generate a table with the threshold along one axis and the number of files along the other axis. Fill the table with counts of bins where atleast num_files have more than threshold events in that bin. In the previous part, num_files was 2 and num_bins was 140. Do this for num_files in [1,2,3,4]. num_bins in [130,135,140,145,150,155,160]. Print the table."
   ]
  },
  {
   "cell_type": "code",
   "execution_count": null,
   "metadata": {
    "id": "1W4bf8eBJTfw"
   },
   "outputs": [],
   "source": [
    "#your code here"
   ]
  }
 ],
 "metadata": {
  "colab": {
   "provenance": []
  },
  "kernelspec": {
   "display_name": "Python 3 (ipykernel)",
   "language": "python",
   "name": "python3"
  },
  "language_info": {
   "codemirror_mode": {
    "name": "ipython",
    "version": 3
   },
   "file_extension": ".py",
   "mimetype": "text/x-python",
   "name": "python",
   "nbconvert_exporter": "python",
   "pygments_lexer": "ipython3",
   "version": "3.11.1"
  }
 },
 "nbformat": 4,
 "nbformat_minor": 1
}
